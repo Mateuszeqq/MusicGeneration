{
 "cells": [
  {
   "cell_type": "code",
   "execution_count": null,
   "metadata": {
    "collapsed": true
   },
   "outputs": [],
   "source": [
    "import pypianoroll\n",
    "import numpy as np\n",
    "from PIL import Image\n",
    "import glob, os"
   ]
  },
  {
   "cell_type": "code",
   "execution_count": null,
   "outputs": [],
   "source": [
    "CHUNK = 128 * 3"
   ],
   "metadata": {
    "collapsed": false,
    "pycharm": {
     "name": "#%%\n"
    }
   }
  },
  {
   "cell_type": "code",
   "execution_count": null,
   "outputs": [],
   "source": [
    "def is_divisible_by(pianoroll, N=CHUNK):\n",
    "    return pianoroll.shape[1] % N == 0"
   ],
   "metadata": {
    "collapsed": false,
    "pycharm": {
     "name": "#%%\n"
    }
   }
  },
  {
   "cell_type": "code",
   "execution_count": null,
   "outputs": [],
   "source": [
    "def do_padding(pianoroll):\n",
    "    x = CHUNK - (pianoroll.shape[1] % CHUNK)\n",
    "    padding = np.zeros((pianoroll.shape[0], x))\n",
    "    return np.concatenate((pianoroll, padding), axis=1)"
   ],
   "metadata": {
    "collapsed": false,
    "pycharm": {
     "name": "#%%\n"
    }
   }
  },
  {
   "cell_type": "markdown",
   "source": [
    "# Maestro dataset"
   ],
   "metadata": {
    "collapsed": false,
    "pycharm": {
     "name": "#%% md\n"
    }
   }
  },
  {
   "cell_type": "code",
   "execution_count": null,
   "outputs": [],
   "source": [
    "RAW_DATA_PATH = \"C://Users/mateu/Desktop/INZYNIERKA/data/midi/maestro-v3.0.0\"\n",
    "idx = 0\n",
    "for midi_file in [y for x in os.walk(RAW_DATA_PATH) for y in glob.glob(os.path.join(x[0], '*.midi'))]:\n",
    "    multitrack = pypianoroll.read(midi_file)\n",
    "    multitrack.binarize()\n",
    "    pr_array = multitrack.tracks[0].pianoroll\n",
    "    pr_T = np.transpose(pr_array)\n",
    "    x = do_padding(pr_T)\n",
    "    batches = int(x.shape[1] / CHUNK)\n",
    "    split_pr = np.array_split(x, batches, axis=1)\n",
    "    for chunk in split_pr:\n",
    "        data = Image.fromarray(chunk.astype(bool))\n",
    "        data.save(f'C://Users/mateu/Desktop/INZYNIERKA/train_dataset/train/{idx}_train.bmp')\n",
    "        idx += 1"
   ],
   "metadata": {
    "collapsed": false,
    "pycharm": {
     "name": "#%%\n"
    }
   }
  },
  {
   "cell_type": "markdown",
   "source": [],
   "metadata": {
    "collapsed": false
   }
  },
  {
   "cell_type": "markdown",
   "source": [
    "# Lakh Pianoroll Dataset (LPD) - cleansed"
   ],
   "metadata": {
    "collapsed": false,
    "pycharm": {
     "name": "#%% md\n"
    }
   }
  },
  {
   "cell_type": "code",
   "execution_count": null,
   "outputs": [],
   "source": [
    "def how_much_music_data(array):\n",
    "    array = array.flatten().astype(int)\n",
    "    return sum(array) / len(array)"
   ],
   "metadata": {
    "collapsed": false,
    "pycharm": {
     "name": "#%%\n"
    }
   }
  },
  {
   "cell_type": "code",
   "execution_count": null,
   "outputs": [],
   "source": [
    "def is_good_sample(array, percentage_of_music_data_recquired):\n",
    "    return how_much_music_data(array) >= percentage_of_music_data_recquired"
   ],
   "metadata": {
    "collapsed": false,
    "pycharm": {
     "name": "#%%\n"
    }
   }
  },
  {
   "cell_type": "code",
   "execution_count": null,
   "outputs": [],
   "source": [
    "def is_empty(array):\n",
    "    return np.all(array == False)"
   ],
   "metadata": {
    "collapsed": false,
    "pycharm": {
     "name": "#%%\n"
    }
   }
  },
  {
   "cell_type": "code",
   "execution_count": null,
   "outputs": [],
   "source": [
    "LPD_PATH = 'D:/LPD_5'\n",
    "idx = 0\n",
    "\n",
    "DO_DATA_FILTRATION = True\n",
    "FILTRATION_THRESHOLD = 0.03\n",
    "\n",
    "for midi_file in [y for x in os.walk(LPD_PATH) for y in glob.glob(os.path.join(x[0], '*.npz'))]:\n",
    "    multitrack = pypianoroll.load(midi_file)\n",
    "    multitrack.binarize()\n",
    "    # Take Piano which has index [1]\n",
    "    pr_array = multitrack.tracks[1].pianoroll\n",
    "    pr_T = np.transpose(pr_array)\n",
    "    x = do_padding(pr_T)\n",
    "    batches = int(x.shape[1] / CHUNK)\n",
    "    split_pr = np.array_split(x, batches, axis=1)\n",
    "    for chunk in split_pr:\n",
    "        if is_empty(chunk):\n",
    "            continue\n",
    "        if DO_DATA_FILTRATION and not is_good_sample(chunk, FILTRATION_THRESHOLD):\n",
    "            continue\n",
    "        data = Image.fromarray(chunk.astype(bool))\n",
    "\n",
    "        if DO_DATA_FILTRATION:\n",
    "            data.save(f'C://Users/mateu/Desktop/INZYNIERKA/train_dataset_lpd_filtered_3_sequence/train/{idx}_train.bmp')\n",
    "        else:\n",
    "            data.save(f'C://Users/mateu/Desktop/INZYNIERKA/train_dataset_lpd/train/{idx}_train.bmp')\n",
    "        idx += 1"
   ],
   "metadata": {
    "collapsed": false,
    "pycharm": {
     "name": "#%%\n"
    }
   }
  }
 ],
 "metadata": {
  "kernelspec": {
   "display_name": "Python 3",
   "language": "python",
   "name": "python3"
  },
  "language_info": {
   "codemirror_mode": {
    "name": "ipython",
    "version": 2
   },
   "file_extension": ".py",
   "mimetype": "text/x-python",
   "name": "python",
   "nbconvert_exporter": "python",
   "pygments_lexer": "ipython2",
   "version": "2.7.6"
  }
 },
 "nbformat": 4,
 "nbformat_minor": 0
}